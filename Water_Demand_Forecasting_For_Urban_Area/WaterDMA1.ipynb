{
 "cells": [
  {
   "cell_type": "code",
   "execution_count": 3,
   "metadata": {},
   "outputs": [],
   "source": [
    "from WaterDMA1 import *\n",
    "import pandas as pd\n",
    "import matplotlib.pyplot as plt\n",
    "import seaborn as sns\n",
    "import numpy as np\n",
    "from torch.utils.data import Dataset\n",
    "from torch.utils.data import DataLoader\n",
    "import torch\n",
    "import torch.nn as nn\n",
    "import torch.optim as optim\n",
    "import pickle\n",
    "from tqdm import tqdm\n",
    "from sklearn.preprocessing import MinMaxScaler\n",
    "sns.set()\n",
    "import matplotlib.pyplot as plt\n",
    "import seaborn as sns\n",
    "\n",
    "\n",
    "# Water data set paths\n",
    "WaterDMA_1_Number_of_Meters_path = '/Users/jagrutigodambe/Desktop/Data/water/WaterDMA_1_Number_of_Meters.csv'\n",
    "Training_WaterDMA_1_path = '/Users/jagrutigodambe/Desktop/Data/water/Training_WaterDMA_1.csv'\n",
    "Testing_WaterDMA_1_path = '/Users/jagrutigodambe/Desktop/Data/water/Testing_WaterDMA_1.csv'\n",
    "Weather_data_path = '/Users/jagrutigodambe/Desktop/Data/weather/Weather_Bronderslev_20152022.csv'\n",
    "torch.manual_seed(0)\n",
    "np.random.seed(0)\n"
   ]
  },
  {
   "cell_type": "code",
   "execution_count": 4,
   "metadata": {},
   "outputs": [],
   "source": [
    "# Initialize the data preprocessing with file paths\n",
    "prepro = Water_data_preprocessing(Training_WaterDMA_1_path,\n",
    "                        WaterDMA_1_Number_of_Meters_path,\n",
    "                        Weather_data_path)\n",
    "\n",
    "# Fit the preprocessing on training data and transform it, then apply the same transformation to testing data\n",
    "train_data = prepro.fit()\n",
    "test_data = prepro.transform(Testing_WaterDMA_1_path)\n",
    "\n",
    "train_data_scaling_info = train_data[['comsumption','meters']]\n",
    "test_data_scaling_info = test_data[['comsumption','meters']]\n",
    "\n",
    "train_data = train_data.drop(['comsumption','meters'], axis=1)\n",
    "test_data = test_data.drop(['comsumption','meters'], axis=1)"
   ]
  },
  {
   "cell_type": "code",
   "execution_count": 5,
   "metadata": {},
   "outputs": [
    {
     "data": {
      "image/png": "iVBORw0KGgoAAAANSUhEUgAAA00AAAH2CAYAAACskWezAAAAOXRFWHRTb2Z0d2FyZQBNYXRwbG90bGliIHZlcnNpb24zLjcuMSwgaHR0cHM6Ly9tYXRwbG90bGliLm9yZy/bCgiHAAAACXBIWXMAAA9hAAAPYQGoP6dpAABLOklEQVR4nO3deVjU9f7+8XsGBJRFARf8Yp7MDcWVBC3LhcwMrUQtK/flaG6VWi55sqzUU7mlmGluddxR0k6alXZKyyWtlBRMLfNkorghIgrCzO8Pf8xpBD/OsDgQz8d1dV3y/mwvhjHn5r2ZrFarVQAAAACAPJldXQAAAAAAFGeEJgAAAAAwQGgCAAAAAAOEJgAAAAAwQGgCAAAAAAOEJgAAAAAwQGgCAAAAAAOEJgAAAAAwQGgCgELGnuEFx2voOiX9tXd1/a5+PoCiQWgCcFv06tVLdevWtfuvWbNm6t27t7777rvbUkNcXFyuGurVq6fw8HD1799f33//ve3cOXPmqG7duk7d/9SpUxo0aJD++OOPAtf6888/q3PnzmrQoIGioqLyPGfcuHG5vp/Q0FDdd999evHFF5WUlFTgOm4m53kzZszI87jFYtH999+vunXrKi4uzql7x8bG6s033yyMMg399NNPevHFF9WmTRs1atRI7dq108svv6zff/+9yJ9dXB05ckRPPfWUXVvdunU1Z84cF1V0cydOnLB7f6WmpmrMmDHau3ev7ZxevXqpV69eTt87P3//Jendd9/VokWLnL4OQPHn7uoCAJQe9evX1yuvvCJJys7O1oULF7Ry5UoNGDBAcXFxql279m2pIyYmRpUqVZJ0/cP92bNnNXfuXPXp00dr165VSEhIvu67Y8cOff3114VS49y5c3Xy5EnNnTtXAQEBNz2vUqVKiomJsX2dlZWlY8eOadq0afrxxx/1ySefyMvLq1BqupHZbNbmzZs1atSoXMf27Nmj5OTkfN133rx5ioiIKGh5hpYvX64pU6aoefPmGj16tCpXrqzjx49r0aJF+vzzz/XBBx/k+31Qkm3evFk//vijXdvq1asVFBTkoopurnLlylq9erWqV68uSUpMTNSGDRvUtWtXl9X0zjvvaPjw4S57PoCiQ2gCcNv4+PioSZMmdm333nuv7rnnHsXFxWns2LG3pY569eqpWrVqdm3169fXgw8+qBUrVui11167LXUYuXDhgurUqaPWrVsbnufh4ZHrNW3WrJnKlCmjsWPHauvWrerYsWOR1BgWFqa9e/cqISFB9evXtzu2ceNG1atXT4mJiUXy7IL4/vvvNXnyZPXo0UMTJkywtTdv3lzt2rVT586d9dJLLzndQ/ZXdeP7q7jI670PAEWF4XkAXKps2bLy9PSUyWSya9+0aZO6dOmipk2bqmXLlpo4caIuXrwoSUpLS1Pbtm3VoUMHZWZmSro+j6B3795q2bKlzp8/73Qd1apVk7+/v06ePHnTc4xqiouL0/jx4yVJDzzwgMaNG3fT+yQnJ2v8+PFq3bq1GjVqpG7dumnr1q2243Xr1tV3332nPXv25Gt4myQ1bNhQkuyGCu7du1c9e/ZU48aNFRERobFjx9q9VnFxcapfv75iY2PVsmVLRURE6OjRozd9Rnh4uCpWrKjNmzfbtWdlZenzzz/PM6ylpKRo4sSJuvfee9WwYUM98cQT2rlzp+14ZGSk/vjjD3300UeqW7euTpw4IUk6efKkRo0apYiICDVu3Fh9+vRRQkKC7bqcoVpLlixRhw4d1LhxY61bty7PuhctWiRfX988e8gCAgI0btw4PfDAA0pPT5d0vVd0+fLleuSRR9SoUSO1adNG06ZNU0ZGhu26cePGqW/fvlq3bp0eeughNWjQQI899pi2bdtmO8disWjmzJmKjIxUgwYNFBkZqenTp+vatWuSpN27d6tu3bravXu3XU03DjGLjIxUTEyMraesadOmGj16tC5fvqwFCxaoVatWuvvuuzVixAhduHDB7rqZM2dqypQpCg8PV/PmzTVmzBilpKRIuj4kLafX8s9D8m4cnner92/ONcuXL9eECRMUERGhpk2b6rnnntPZs2fz/JmkpKSofv36Wrp0qa0tKSlJdevW1Ysvvmj3GjZv3lzz58+3G563e/du9e7dW5LUu3dvu9fLarXq/ffftw3D7N69u+Lj4/Os42Zy/m7s379f3bt3V8OGDdW2bVu7oXg5w/liYmLshvYdPnxYgwcPVlhYmMLCwjRs2DC7IaA5P/dVq1apbdu2CgsL07fffutUfQCKHqEJwG1jtVqVlZWlrKwsXbt2TWfOnNH06dOVmZlpN6Tm3Xff1ahRo9SkSRPNnj1bw4YN02effaZevXrp6tWr8vHx0eTJk/Xbb7/pvffekyR9+OGH2r17t6ZMmWI4nO1mLly4oAsXLtiG+tzoVjW1adNGQ4YMkXT9Q9PQoUPzvM/Zs2fVrVs37d27VyNHjtScOXMUHBysYcOG6eOPP5Z0fThU/fr1Vb9+fa1evVpt2rRx+vs5duyYJNm+nz179qhv377y8vLSrFmz9NJLL+m7775T7969dfXqVdt12dnZWrx4sSZPnqzx48erZs2aN32Gm5ubHnrooVyhaefOncrIyFBkZKRde0ZGhvr06aOtW7dq5MiRiomJUVBQkAYOHGgLTjlDJ1u3bq3Vq1ercuXKOn/+vJ588kkdPHhQL7/8sqZPny6LxaIePXrol19+sXvGnDlz9Pe//11vvfWWWrZsmatmq9Wqb775Rvfcc4/Kli2b5/cVFRWlYcOGqVy5cpKkiRMnaurUqWrXrp3mzZunHj16aNmyZRo6dKjdpP8DBw5o0aJFevbZZzV37ly5ublpxIgRtmD9/vvva+XKlRo2bJgWL16sp556SosWLdK8efNu+hrfzOLFi5WUlKSZM2dqyJAh+uSTT9S1a1d98803ev311zVq1Cht3bpVs2fPtrtuxYoV+uGHHzR16lSNHj1aX3/9tQYPHiyr1arHH39c3bp1k3T9Pfj444/neq4j798cM2fOlMVi0YwZMzRmzBj95z//0ZQpU/L8fipUqKAmTZpox44dtrac98Sf5yjt379fKSkpuf5OhIaGauLEiZKu/7xyhgFL13sWv/jiC7388st6++23lZycrCFDhigrK+tWL7Mdi8Wi559/XlFRUVqwYIHCwsL01ltvafv27ZKuv2aS1K1bN9ufjx07pieffFLnzp3Tm2++qcmTJ+v333/XU089pXPnztndPyYmRmPHjtXEiRPVtGlTp2oDUPQYngfgttmzZ49CQ0NztY8aNcr24fzixYuaN2+ennjiCduHIEmqU6eOevTooXXr1qlHjx6699571b17dy1YsECNGzfWjBkz1KNHj1sOZ5Ouf/jJ+cCUkZGh3377TdOmTZPZbFb37t1zne9oTTkBJa/hfzmWLFmi8+fP67PPPlNwcLAkqXXr1urbt6/eeustderUSU2aNJGPj48kx4ZG/fnDX1pamn766SdNnTpV1apVs324nD59umrUqKH58+fLzc1NktS4cWN17NjRVn+OZ555xuGgFhUVpeXLl9sN0du0aZMeeOABeXp62p27YcMGHTp0SGvWrFHjxo0lSa1atVKvXr00bdo0rVu3TvXr15eHh4cCAgJs3/sHH3yglJQUrVy50vaatWrVSlFRUXrnnXfsgsHDDz9sOKflwoULysjIuOnP50ZHjx7V2rVrNXr0aA0aNEiS1LJlS1WuXFljxozRtm3bbO+5S5cuKS4uzvY+KFeunHr27Kldu3bpoYce0nfffacGDRrY6ouIiFDZsmXl6+vrUC1/5uPjo5kzZ8rd3V333nuvPvroI50+fVqxsbG2+23fvl0//PCD3XVms1lLliyxnRMQEKBhw4Zp+/btatWqlW3u0s3ed468f83m67+PrVOnjqZOnWq7Nj4+PlfA/rM2bdpo3rx5unbtmsqUKaOdO3cqNDRUBw8e1IkTJ1StWjVt375dwcHBdr2QOa9HrVq1JEm1atWy/Vm6PoxvwYIFqlChgqTrC0b84x//0NGjR52at2a1WjV06FBbmLz77rv1xRdf6KuvvtL9999ve82CgoJsf46JiVHZsmW1dOlS29/pe+65R+3atdPChQvthiQ//fTT6tChg8P1ALi96GkCcNuEhoZq7dq1Wrt2rWJjY7Vo0SL16dNHM2fO1MyZMyVJ+/btU2Zmpjp16mR3bbNmzRQcHGy30t6YMWNUpUoVPfPMMwoODtaYMWMcquPBBx9UaGioQkNDFRYWpi5duuj48eN6++2381wxy5mabuW7775T06ZNbR84czz66KM6c+aMfv31V4fvJV0ffpfzvYSGhqp58+YaOHCgAgMDNXfuXHl5eenKlSvav3+/Wrdubdfbd8cdd6hmzZq5hgLVq1fP4efffffdqlKliu3DcGZmprZs2ZLrtZKu9xxUqlRJoaGhthqys7PVtm1bHThwwNYjk9d19erVU5UqVWzXmc1mtWrVyq5nwpHacwJjdna2Q99fzs/2xqGGHTt2lJubm91QuoCAALueypwAcuXKFUnX50x9++23evrpp7Vw4UIdPXpUPXv21GOPPeZQLX/WqFEjubv/7/eeFStWVI0aNewCWIUKFXTp0iW76yIjI+3OiYyMlLu7u/bs2ePQc515/94YvIKCgmyvRV5at26t9PR07d+/X5K0a9cu9enTR2XLlrXVt23bNqd7XmvVqmULTJJsgfnG18YRf+4Bygn3OcM487Jr1y5FRETIy8vL9t718fFRs2bNnH7vAnAtepoA3Dbe3t62uTY57rvvPqWnp2vhwoXq3bu37YNzxYoVc11fsWJFuw863t7eat++vRYvXqx77rnH4VXi5s2bZ1s9r0yZMvL391eVKlVuer4zNd3KxYsXdccdd+R5H+n6b8GdUalSJbvhXR4eHgoKClL58uVtbampqbJYLHr//ff1/vvv57rHjT1COcPSHGEymdShQwfbKnrbt2+X2WxWy5Ytdfr0abtzU1JSdObMmTx7GyXpzJkzdnX/+brjx4/f9Lo/fxC/Ve3ly5eXt7e34dy19PR0Xbt2TeXLl7f97HPeLznc3d3l7+9v97O/cbhfzjw9i8UiSRo4cKC8vb21bt06TZs2TW+//bZq166tf/zjH2rRooVh3TfK6bX4M0d+bje+z81ms/z9/W8aWG/kzPv3xtfDbDYb7mFUt25dVa1aVTt27JC/v7+Sk5N17733KiwsTN99951at26tgwcP6rnnnnOo1hw3vi45PWE5Pxdn3Pj/mFt9TykpKdq0aZM2bdqU69iNw4id+XsH4PYjNAFwuQYNGig2NlYnTpywfWg+e/as7rrrLrvzzpw5Y/eB7fDhw/rXv/6levXqaeXKlXr00Udtw76M1KlTx+HhWZKcqsmRe505cyZXe06bv7+/w/eSroekG4Pojby9vWUymdS3b988F2e42dweR0VFRemDDz5QYmKiNm3apPbt26tMmTK5zvP19dWdd96padOm5Xmfm/1MfH19FRERcdOeRA8PD6fqve+++7R7925lZGTkCoyStGbNGr355ptau3at7Wd/5swZu96Va9eu6cKFC079vMxms3r06KEePXro3Llz+vrrr/Xee+9pxIgR+vbbb3OFrByXL1+Wt7e3U9/jzfx5YQjpf0v/OzoPsLDfvzdq3bq1du7cqcDAQNWoUUOVKlVS8+bNtWbNGn3zzTfy8vJS8+bNC/SM28nX11f33nuv+vXrl+vYn3sKARR/DM8D4HLx8fFyc3PTHXfcocaNG8vDw0OffPKJ3Tl79+7VyZMnFRYWJun6PJ5x48apevXqWrVqlUJCQjR27Fi7Fc0Ki6M15fwG20h4eLh+/PHHXBvgfvzxx6pUqZL+9re/FV7h/5+Pj4/q16+vX3/9VQ0bNrT9V7t2bc2ZMyfXam3OatKkiYKDg7VhwwZ9+eWXN13iPCIiQklJSQoMDLSr49tvv9XChQttQ+dufB0jIiJ07Ngx1ahRw+66DRs2aO3atbbrHNW/f3+lpKRo1qxZuY6dOXNGixcvVq1atRQaGmrbL2rjxo12523cuFHZ2dm6++67HX7uk08+qTfeeEOSFBgYqC5duqhHjx5KTU1VWlqarffo1KlTtmsuXryYa7GLgti2bZttxUlJ2rp1q7KysnTPPfdIuvV7uKjfv23atNFPP/2kbdu22V77Fi1a6MSJE1q1apVatmx505Ds7PugKOT13j169Kjq1atne982aNBAS5cu1RdffOGiKgHkB7/mAHDbpKWlad++fbavMzMz9eWXX2rdunXq3r277bfdgwYN0ty5c1WmTBm1bdtWJ06c0DvvvKNatWopOjpakvTee+8pISFBK1askJeXl15//XU9/vjjmjlzpuFy3/lRoUIFh2ry8/OTJH3xxRdq1apVnivP9evXTx9//LH69u2r4cOHq0KFClq/fr127dqlKVOmOBS88mPUqFEaNGiQRo8erUcffdS2St7+/ftvutKfMzp06KAPP/xQFSpUuOnGtF26dNGyZcvUr18/PfPMM7ahWO+//7569uxp653y8/NTQkKCvvvuOzVq1Eh9+/bVhg0b1LdvX/Xv31/+/v7atGmT1qxZY1vm3RlNmjTRc889p1mzZumXX35R586d5e/vryNHjmjRokXKyMiwBaqcn+/s2bN15coVhYeHKzExUTExMWrevLnuv/9+h58bHh6uxYsXq2LFimratKlOnz6tJUuWKCIiQgEBASpfvryqVq2quXPnysfHRyaTSfPnzy9wT+CfJSUlaciQIerdu7eSkpI0Y8YM3X///bbem5z38CeffKLGjRvn6kUt6vdvixYtZDab9dVXX2nGjBmSrs+F9Pb2tu2vdTM5c7W++uorlS9f3iWbE/v5+emHH37Qnj171KxZMw0dOlRPPvmkBg8erKeeekqenp5avXq1tmzZkmtlQwDFG6EJwG2TkJBgtzqdp6enqlevrpEjR2rAgAG29hEjRqhixYpatmyZVq9erQoVKqhDhw56/vnnVa5cOR06dEjvvfeennrqKVsvT2hoqHr37q0PPvhADz74oFM9AI64VU3S9Yn+9957r6ZPn66dO3dqwYIFue5TqVIlrVy5UtOnT9cbb7yha9euKSQkRO+++64eeOCBQq35z+677z4tWrRIMTExevbZZ1WmTBmFhoZqyZIlhbJBaFRUlBYtWqSHH374ph+cy5Urp+XLl2v69Ol6++23denSJQUHB2v06NHq37+/7bz+/ftrypQpGjBggJYsWaJmzZpp1apVmj59ul599VVlZGTozjvv1OTJk21LZDtryJAhql+/vpYvX64pU6bo4sWLqlq1qtq0aWMLdDkmT56sv/3tb1q3bp3ef/99Va5cWb1799bQoUOdCgnPPfecPDw8tG7dOs2dO1e+vr6KjIzU6NGjJV3vKZk9e7amTJmiUaNGqWLFiurTp49+/fVX2xLyBdWxY0f5+fnZ3rfR0dEaOXKk7Xj79u21YcMGjRs3Tt26ddOrr75qd31Rv3/Lli2r5s2b2/U0ubu7q1mzZrdcBKJ27drq1KmTli9fru3bt+fqGb4dnnnmGb377rv6+9//rk2bNikkJETLly/XzJkzNWbMGFmtVtWpU0dz584t0r/vAAqfyWo0gxEAAPwlREZGKiIiQv/85z9dXQoAlDjMaQIAAAAAA4QmAAAAADDA8DwAAAAAMEBPEwAAAAAYIDQBAAAAgAFCEwAAAAAYIDQBAAAAgIFSubmt1WqVxcL6FwAAAEBpZjabZDKZbnleqQxNFotV589fdnUZAAAAAFwoIMBbbm63Dk0MzwMAAAAAA4QmAAAAADBAaAIAAAAAA4QmAAAAADBAaAIAAAAAAy4PTVlZWXrnnXfUtm1bNW3aVD169NC+fftsxxMTE9WzZ081adJEkZGR+vDDD11XLAAAAIBSx+Whad68eYqNjdXrr7+u9evXq0aNGho4cKCSk5N14cIF9evXT9WrV9e6des0bNgwTZs2TevWrXN12QAAAABKCZfv07RlyxZ16tRJ9913nyRp3Lhxio2N1b59+3Ts2DGVKVNGr732mtzd3VWzZk0dP35cCxYsUNeuXV1cOQAAAIDSwOU9TYGBgfrPf/6jEydOKDs7W6tXr5aHh4dCQkK0d+9eRUREyN39f9muRYsW+u2333T27FkXVg0AAACgtHB5T9OECRP03HPP6YEHHpCbm5vMZrPmzJmj6tWr69SpU6pTp47d+ZUrV5YkJSUlqWLFivl+rru7y/MiAAAAgBLA5aHp6NGj8vX11dy5c1WlShXFxsbqhRde0LJly3T16lV5eHjYne/p6SlJysjIyPczzWaT/P29C1Q3AAAAgNLBpaEpKSlJo0eP1tKlS9WsWTNJUsOGDXX06FHNmTNHXl5eyszMtLsmJyyVK1cu38+1WKxKTU3Pf+EAAAAASjw/v7Jyc7v1CDSXhqb9+/fr2rVratiwoV1748aNtW3bNv3f//2fkpOT7Y7lfF2lSpUCPTsry1Kg6wEAAACUDi6d2BMUFCRJ+vnnn+3aDx8+rDvvvFPh4eH6/vvvlZ2dbTu2a9cu1ahRQ4GBgbe1VgAAAAClk0tDU6NGjXT33Xdr7Nix2rVrl3777TfNmjVLO3fu1KBBg9S1a1elpaVpwoQJOnr0qOLi4rR06VINHjzYlWUDAEq4uLg1Gjiwp+Li1ri6FABACWCyWq1WVxZw8eJFzZo1S1999ZUuXryoOnXqaNSoUYqIiJAkxcfHa/LkyUpISFClSpXUv39/9ezZs0DPzM626Pz5y4VRPgCghLl0KVXPPz9EVqtVJpNJs2bNk6+vn6vLAgC4QECAt0NzmlwemlyB0AQApdfUqa/qyJHDtq9r166r8eNfcWFFAABXcTQ0sVkRAKDUOHjwJ7vAJElHjvysgwd/clFFAICSgNAEACgVLBaL5s+fk+ex+fPnyGJhVVUAQN4ITQCAUiE+fp/S0tLyPJaWlqb4+H23tyAAQIlBaAIAlAqNGjWRj49Pnsd8fHzUqFGT21sQAKDEIDQBAEoFs9mswYNH5HlsyJDnZDbzTyIAIG/8CwEAKDVCQxuqdu06dm21a9dVvXqhLqoIAFASEJoAAKXK8OGjZDKZJEkmk0nDh490cUUAgOKO0AQAKFV8ff3UseNjMpvN6tjxMTa2BQDcEpvbAgAAACiV2NwWAAAAAAoBoQkAAAAADBCaAAAAAMAAoQkAAAAADBCaAAAAAMAAoQkAAAAADBCaAAAAAMAAoQkAAAAADBCaAAAAAMAAoQkAAAAADBCaAAAAAMAAoQkAAAAADBCaAAAAAMAAoQkAAAAADBCaAAAAAMAAoQkAAAAADBCaAAClTlzcGg0c2FNxcWtcXQoAoAQgNAEASpVLl1K1ceMGWSwWbdy4QZcupbq6JABAMUdoAgCUKjExM2S1WiVJVqtVMTEzXVwRAKC4IzQBAEqNgwd/0pEjh+3ajhz5WQcP/uSiigAAJQGhCQBQKlgsFs2fPyfPY/Pnz5HFYrnNFQEASgpCEwCgVIiP36e0tLQ8j6WlpSk+ft/tLQgAUGIQmgAApUKjRk3k4+OT5zEfHx81atTk9hYEACgxCE0AgFLBbDZr8OAReR4bMuQ5mc38kwgAyBv/QgAASo3Q0IaqXbuOXVvt2nVVr16oiyoCAJQEhCYAQKkyfPgomUwmSZLJZNLw4SNdXBEAoLgjNAEAShVfXz917PiYzGazOnZ8TL6+fq4uCQBQzJmsOTv8lSLZ2RadP3/Z1WUAAAAAcKGAAG+5ud26H4meJgAAAAAwQGgCAAAAAAOEJgAAAAAwQGgCAAAAAAPurnz47t271bt37zyPVatWTVu3btWJEyf0+uuva8+ePSpXrpy6deumESNGyM3N7TZXCwAAAKA0cmloatq0qb755hu7tn379mnEiBEaOnSorl27pgEDBujOO+/UqlWr9N///lcTJkyQ2WzWs88+66KqAQAAAJQmLg1NHh4eqlSpku3r9PR0TZ06VdHR0eratas++eQTnTx5UmvWrFH58uVVp04dnTt3Tm+99ZaeeeYZeXh4uLB6AAAAAKVBsZrT9N577+nKlSsaO3asJGnv3r0KDQ1V+fLlbee0aNFCaWlpSkxMdFWZAAAAAEoRl/Y0/dn58+e1dOlSjR49WhUqVJAknTp1SkFBQXbnVa5cWZKUlJSkxo0b5/t57u7FKi8CAAAAKKaKTWhasWKFfH191b17d1vb1atX5efnZ3eep6enJCkjIyPfzzKbTfL398739QAAAABKj2ITmtavX6/OnTvLy8vL1ubl5aXMzEy783LCUrly5fL9LIvFqtTU9HxfDwAAAKDk8/MrKze3W49AKxah6dChQ/r999/1yCOP2LUHBQXp8OHDdm3JycmSpCpVqhTomVlZlgJdDwAAAKB0KBYTe/bu3avAwECFhITYtYeHhyshIUFpaWm2tl27dsnb2zvXuQAAAABQFIpFaEpISFDdunVztbdr106VKlXS888/r0OHDmnLli2aMWOG+vfvz3LjAAAAAG6LYhGazpw5Y1sx7888PT21cOFCWSwWPfHEE5o0aZKefvppDR069PYXCQAAAKBUMlmtVquri7jdsrMtOn/+sqvLAAAAAOBCAQHeDi0EUSx6mgAAAACguCI0AQAAAIABQhMAAAAAGCA0AQAAAIABQhMAAAAAGCA0AQAAAIABQhMAAAAAGCA0AQAAAIABQhMAAAAAGCA0AQAAAIABQhMAAAAAGCA0AQAAAIABQhMAAAAAGCA0AQAAAIABQhMAAAAAGCA0AQAAAIABQhMAAAAAGCA0AQAAAIABQhMAAAAAGCA0AQAAAIABQhMAAAAAGCA0AQAAAIABQhMAAAAAGCA0AQAAAIABQhMAAAAAGCA0AQAAAIABQhMAAAAAGCA0AQAAAIABQhMAAAAAGCA0AQAAAIABQhMAAAAAGCA0AQAAAIABQhMAAAAAGCA0AQAAAIABQhMAAAAAGCA0AQAAAIABQhMAAAAAGCA0AQAAAIABQhMAAAAAGCA0AQAAAIABQhMAAAAAGCA0AQAAAICBYhGa1q9fr6ioKDVs2FAdO3bUp59+ajt24sQJDR48WGFhYbrvvvs0a9YsZWdnu7BaAAAAAKWJy0PThg0bNGHCBPXo0UMbN25Up06dNGrUKP3444+6du2aBgwYIElatWqVXn31Va1cuVJz5851cdUAAAAASguT1Wq1uurhVqtVDzzwgB566CGNHTvW1j5gwABFREQoODhY48eP1zfffKPy5ctLklavXq233npLO3fulIeHR76em51t0fnzlwvlewAAAABQMgUEeMvN7db9SC7taTp27Jj++OMPPfLII3btixYt0uDBg7V3716FhobaApMktWjRQmlpaUpMTLzd5QIAAAAohdxd+fBjx45JktLT0zVgwAAlJCSoWrVqGjJkiCIjI3Xq1CkFBQXZXVO5cmVJUlJSkho3bpzvZ7u7u3xkIgAAAIASwKWhKS0tTZI0duxYDR8+XC+88II+++wzDR06VEuWLNHVq1fl5+dnd42np6ckKSMjI9/PNZtN8vf3zn/hAAAAAEoNl4amMmXKSLo+hyk6OlqSVK9ePSUkJGjJkiXy8vJSZmam3TU5YalcuXL5fq7FYlVqanq+rwcAAABQ8vn5lXVoTpNLQ1OVKlUkSXXq1LFrr1Wrlr766itFRETo8OHDdseSk5Ptrs2vrCxLga4HAAAAUDq4dGJPaGiovL29tX//frv2w4cPq3r16goPD1dCQoJtGJ8k7dq1S97e3goJCbnd5QIAAAAohVwamry8vDRw4EDNnTtXn3zyif773/9q3rx5+vbbb9WvXz+1a9dOlSpV0vPPP69Dhw5py5YtmjFjhvr375/v5cYBAAAAwBku3acpx5IlS7Rs2TKdPn1aNWvW1IgRI9SuXTtJ0vHjxzVp0iTt3btX5cuXV7du3TRixAiZzfnPe+zTBAAAAMDRfZqKRWi63QhNAAAAAErE5rYAAAAAUNwRmgAAAADAAKEJAAAAAAwQmgAAAADAAKEJAAAAAAwQmgAAAADAAKEJAAAAAAwQmgAAAADAAKEJAAAAAAwQmgAAAADAAKEJAAAAAAwQmgAAAADAAKEJAAAAAAwQmgAAAADAAKEJAAAAAAwQmgAAAADAAKEJAAAAAAwQmgAAAADAAKEJAAAAAAy4O3vB1atXNW/ePP3nP//RlStXZLFY7I6bTCZt2bKl0AoEAAAAAFdyOjRNnjxZa9euVUREhOrVqyezmc4qAAAAAH9dToemzz//XCNHjtSgQYOKoh4AAAAAKFac7ia6du2aGjVqVBS1AAAAAECx43Rouu+++7Rt27aiqAUAAAAAih2nh+dFRUXplVde0fnz59W4cWOVLVs21zmdO3cujNoAAAAAwOVMVqvV6swFISEhxjc0mZSYmFigoopadrZF589fdnUZAAAAAFwoIMBbbm63HnzndE/T1q1b81UQAAAAAJREToem4OBg25+vXLmitLQ0VahQQWXKlCnUwgAAAACgOHA6NEnS3r179dZbb+nAgQPKGd3XqFEjjRw5Ui1atCjUAgEAAADAlZye0/TDDz+od+/euuOOO9SxY0dVrFhRycnJ2rhxo/744w/961//UtOmTYuq3kLBnCYAAAAAjs5pcjo09e7dW2azWYsWLZKbm5ut3WKxaMCAATKZTFq8eLHzFd9GhCYAAAAAjoYmp/dp+umnn9S7d2+7wCRJZrNZPXv2VHx8vLO3BAAAAIBiy+nQ5O3traysrDyPZWVlycmOKwAAAAAo1pwOTWFhYVqwYIGuXLli156enq4FCxaoWbNmhVYcAAAAALia03Oajh8/ri5dusjT01Nt2rRRpUqVdObMGX311Ve6evWqVqxYccsNcF2NOU0AAAAAimwhCEk6evSoYmJitGfPHl28eFHly5dXeHi4hg8frlq1auWr4NuJ0AQAAACgSENTSUdoAgAAAOBoaHJoc9v169erdevW8vf31/r16295fufOnR25LQAAAAAUew71NIWEhGjNmjVq1KjRLecrmUwmJSYmFlqBRYGeJgAAAACFOjzvjz/+UKVKleTh4aE//vjjljcNDg52rEoXITQBAAAAKNTNbYODg+Xh4SFJ2rNnj8qVK6fg4OBc/3l4eGjTpk0FqxwAAAAAihGn92kaP368fv/99zyPJSYmavbs2QUuCgAAAACKC4cWghg0aJB++eUXSZLVatWwYcNsPU9/du7cOVWvXt2pAk6fPq1WrVrlap86daq6dOmixMRETZ48WQcOHFBAQID69u2r3r17O/UMAAAAAMgvh0LTM888o9jYWEnSRx99pPr16ysgIMDuHLPZLD8/P3Xp0sWpAg4dOiRPT09t2bJFJpPJ1u7r66sLFy6oX79+ioyM1KRJk7Rv3z5NmjRJ3t7e6tq1q1PPAQAAAID8cCg0hYWFKSwszPb10KFDdccddxRKAYcPH9add96pypUr5zr2wQcfqEyZMnrttdfk7u6umjVr6vjx41qwYAGhCQAAAMBt4VBo+rOpU6dKko4dO6Y9e/YoJSVFFStWVPPmzfO1at7PP/+smjVr5nls7969ioiIkLv7/8ps0aKF5s+fr7Nnz6pixYpOPw8AAAAAnOF0aMrMzNS4ceP06aef6s+rlZvNZnXv3l0TJ060G2Z3K4cPH5a/v7969OihY8eO6W9/+5uGDBmiVq1a6dSpU6pTp47d+Tk9UklJSQUKTe7uTq+BAQAAAKAUcjo0TZs2TVu3btW4ceP00EMPKSAgQOfOndPmzZs1a9YsBQUFafDgwQ7dKysrS7/++qtq1aqlcePGycfHRxs3btSgQYO0ZMkSXb16NdeCE56enpKkjIwMZ0u3MZtN8vf3zvf1AAAAAEoPp0PTxo0bNXLkSPXp08fWVrVqVfXr109ZWVlauXKlw6HJ3d1du3fvlpubm7y8vCRJDRo00JEjR7Ro0SJ5eXkpMzPT7pqcsFSuXDlnS7exWKxKTU3P9/UAAAAASj4/v7IObW7rdGhKT0/XXXfdleexevXq6cKFC07dz9s7d49P7dq19c033ygoKEjJycl2x3K+rlKlilPPuVFWlqVA1wMASq64uDXatOljRUU9qi5dnnB1OQCAYs7piT0PPfSQli1bJosld+jYsGGD2rZt6/C9jhw5orCwMO3evduu/cCBA6pVq5bCw8P1/fffKzs723Zs165dqlGjhgIDA50tHQAAXbqUqo0bN8hisWjjxg26dCnV1SUBAIo5k/XPqzk4YPny5XrnnXdUsWJFPfLII6pcubIuXLigrVu3av/+/erTp4+t98hkMmnYsGE3vZfFYtETTzyhK1euaNKkSfL399eaNWu0YsUKrVu3ToGBgXr44YcVGRmpgQMHKj4+Xq+++qomTZqk6OjofH/T2dkWnT9/Od/XAwBKrqlTX9WRI4dtX9euXVfjx7/iwooAAK4SEODt0PA8p0NTSEiIw+eaTCYlJiYannP27FlNnz5d27dvV2pqqurXr68XXnhBzZo1kyTFx8dr8uTJSkhIUKVKldS/f3/17NnTmZJzITQBQOl08OBPmj59aq720aPHKzS0oQsqAgC4UpGFpr8CQhMAlD4Wi0XPP/+M0tLSch3z8fHRrFnvyWxmOwoAKE0cDU386wAAKBXi4/flGZgkKS0tTfHx+25vQQCAEiNfm9suW7ZMP/zwg1JTc0+eNZlM+uCDDwqlOAAACkujRk3k4+Nz056mRo2a3P6iAAAlgtM9Ta+99preeustHT9+XFarNdd/ea2qBwCAq5nNZg0ePCLPY0OGPMfQPADATTnd0/TFF19oxIgRhqviAQBQHIWGNlTt2nVyrZ5Xr16oC6sCABR3Tv9azWw2q2nTpkVRCwAARW748FEymUySrg8pHz58pIsrAgAUd06Hps6dO2vt2rUMwwMAlEi+vn7q2PExmc1mdez4mHx9/VxdEgCgmHN6yfGMjAx17txZWVlZCg0NVdmyZe1vaDJpypQphVpkYWPJcQAAAACOLjnu9JymadOm6dixYypbtqzi4+NzHc8Z8gAAAAAAfwVO9zQ1b95c0dHRGjNmTIldaYieJgAAAABFtrltdna22rZtW2IDEwAAAAA4w+nk8+CDD+rTTz8tiloAAAAAoNhxek5T48aNNW3aNB06dEhNmzaVt7e33XGTycQeTgAAAAD+Mpye0xQSEmJ8Q5NJiYmJBSqqqDGnCQAAAICjc5qcDk1/BYQmAAAAAEW2EAQAAAAAlCZOz2kaP378Lc+ZOnVqvooBAAAAgOLG6dC0e/fuXG3p6elKSUlRhQoV1LBhw0IpDAAAAACKA6dD05dffpln+y+//KLhw4erc+fOBa0JAAAAAIqNQpvTVLNmTY0YMUIxMTGFdUsAAAAAcLlCXQjCx8dHf/zxR2HeEgAAAABcyunheSdPnszVlp2drdOnT2v27NmqWbNmoRQGAAAAAMWB06EpMjJSJpMpV7vVapWXlxfD8wAAAAD8pTi9uW1cXFyu0GQymeTj46PmzZvL19e3UAssCmxuCwAAAMDRzW2dDk1/BYQmAAAAAI6GpnwtBPHRRx/p66+/liQdOnRIjzzyiMLCwvTSSy8pMzMzP7cEAAAAgGLJ6dC0ePFivfTSS0pISJAkvfrqq7pw4YIef/xxbdmyRbNnzy70IgEAAADAVZwOTbGxsRo4cKCGDBmiEydOaN++fRo6dKjGjx+v0aNHa+PGjUVRJwAAAAC4hNOh6cSJE2rVqpUk6euvv5bJZFJkZKQk6a677tK5c+cKt0IAAAAAcCGnQ1NAQIDOnj0r6XpouuuuuxQUFCRJ+vnnn1WxYsXCrRAAAAAAXMjpfZratm2r6dOna+fOndq2bZtGjhwpSVqyZInmzp2rLl26FHqRAAAAAOAqTi85npGRocmTJ2vPnj1q3ry5JkyYoDJlyuihhx5SgwYN9Prrr6tcuXJFVW+hYMlxAAAAALd9n6aMjAx5enoWxq2KHKEJAAAAgKOhyenheZJktVqVmJio9PR05ZW5wsPD83NbAAAAACh2nA5N8fHxeu6553Tq1Klcx6xWq0wmkxITEwulOAAAAABwNadD09SpU+Xu7q6pU6cqKChIZrPTC/ABAAAAQInhdGg6ePCgZsyYoXbt2hVFPQAAAABQrDjdTRQYGCg3N7eiqAUAAAAAih2nQ9PTTz+t+fPnKz09vSjqAQAAAIBixenhecePH9cvv/yili1bqnbt2vLy8rI7bjKZ9MEHHxRagQAAAADgSvkKTSEhIbavb1xyvJC2fQIAAACAYqHQNrctSdjcFgAAAICjm9vme73wX375RStXrtSCBQsUGxurX3/9Nb+3sjl27JiaNm2quLg4W1tiYqJ69uypJk2aKDIyUh9++GGBnwMAAAAAjnJ6eJ7VatUrr7yi2NhYu6F4JpNJ0dHRmjJlSr4KuXbtml544QW7BSYuXLigfv36KTIyUpMmTdK+ffs0adIkeXt7q2vXrvl6DgAAAAA4w+nQtHDhQq1bt07PPvusHn30UVWqVEnJycnasGGD5s2bpzp16qhv375OFzJnzhz5+PjYta1Zs0ZlypTRa6+9Jnd3d9WsWVPHjx/XggULCE0AAAAAbgunh+etXbtWAwcO1JAhQxQcHCwPDw9Vq1ZNw4YN08CBA7VmzRqni9izZ49Wr16tf/7zn3bte/fuVUREhNzd/5ftWrRood9++01nz551+jkAAAAA4Cyne5qSkpLUokWLPI81b95cixcvdup+qampGjNmjP7xj3+oatWqdsdOnTqlOnXq2LVVrlzZVkfFihWdetafubvnezoXAAAAgFLE6dAUHBysn3/+Wffcc0+uY4cOHVJAQIBT93v11VfVtGlTPfLII7mOXb16VR4eHnZtnp6ekqSMjAynnvNnZrNJ/v7e+b4eAAAAQOnhdGjq1KmT5syZoypVqqhDhw4ymUyyWq369NNPFRMTo+7duzt8r/Xr12vv3r3697//nedxLy8vZWZm2rXlhKVy5co5W7qNxWJVamr6rU8EAAAA8Jfl51fWoSXHnd6nKTMzU4MHD9bOnTvl7u4uf39/XbhwQdnZ2YqIiNCCBQtsvUG30qtXL/3www92vUnp6eny8PBQ8+bNZTKZVKFCBb399tu24zt27FC/fv20Y8cOBQYGOlO6Dfs0AQAAAHB0nyane5o8PDy0ZMkSff3119qzZ48uXryo8uXLKzw8XK1bt3bqXtOmTdPVq1ft2tq3b29bmW/Dhg1atWqVsrOz5ebmJknatWuXatSoke/ABAAAAADOcDo05WjdurUtJJ0/f97puUySVKVKlTzbAwMDVaVKFXXt2lULFy7UhAkTNHDgQMXHx2vp0qWaNGlSfssGAAAAAKc4vITc6dOn9eyzz2rJkiV27enp6WrTpo2GDBmic+fOFWpxgYGBWrhwoY4dO6bo6GjFxMRozJgxio6OLtTnAAAAAMDNODSn6fz583riiSd07tw5jR07Vk8++aTtWGpqqubMmaO4uDgFBgYqNjZW5cuXL9KiC4o5TQAAAAAcndPkUE/TwoULlZGRofXr19sFJkny8/PThAkTtHr1al28eNHpfZoAAAAAoDhzKDR9+eWXGjRokP72t7/d9JxatWqpX79+2rJlS6EVBwAAAACu5lBoOnXqlOrWrXvL8xo3bqyTJ08WuCgAAAAAKC4cCk1+fn5KSUm55XmXL1+Wt7d3QWsCAAAAgGLDodDUuHFjbd68+ZbnffbZZ6pZs2aBiwIAAACA4sKh0PT000/r008/1b/+9a+bnrNs2TJ98skneuKJJwqtOAAAAABwNYeWHJekadOmaeHChapdu7batGmjatWqKTs7WydPntS2bdt05MgRdevWTa+//npR11xgLDkOAAAAwNElxx0OTZK0ceNGLViwQD///PP/bmAyKTQ0VAMGDNDDDz+cv2pvM0ITAAAAgCIJTTnOnj2rpKQkubu7q2rVqqpQoUJ+anQZQhMAAACAIg1NJR2hCQAAAICjocmhhSAAAAAAoLQiNAEAAACAAUITAAAAABhwOjTt3LlTV69eLYpaAAAAAKDYcTo0jRgxQp9//nlR1AIAAAAAxY7TocnPz09eXl5FUQsAAAAAFDvuzl4wePBgvfHGGzp27JhCQkJUrly5XOeEh4cXSnEAAAAA4GpO79MUEhJifwOTyfZnq9Uqk8mkxMTEwqmuiLBPEwCUbvv2fa/lyz9Qjx591KTJ3a4uBwDgIo7u0+R0T9OHH36Yr4IAACgOMjIy9OGHi5WSckH/+tdi1avXQJ6enq4uCwBQjDkdmiIiIoqiDgAAbouNGzfo4sUUSVJKSoo2bfpY0dGPu7YoAECxlq99ms6fP6+3335b0dHRuu+++3To0CHFxMRoy5YthV0fAACF5vTpU9q06d/KGZlutVq1adPHOn36lIsrAwAUZ06Hpt9//12PPvqo1qxZoypVqujcuXPKzs7WsWPH9Oyzz+qrr74qgjIBACgYq9Wq5cuXSrLm2e7kFF8AQCnidGh68803FRgYqK1btyomJsb2j8z06dMVGRmp9957r9CLBACgoJKSTurAgXhZLBa7dovFogMH4pWUdNJFlQEAijunQ9POnTs1dOhQ+fn52a2cJ0ndu3fXkSNHCq04AAAKS9Wq/6cGDRrJbLb/p89sNqtBg0aqWvX/XFQZAKC4y9ecJnf3vNePyMzMzBWkAAAoDkwmk3r06CvJlKu9Z89+/PsFALgpp0NTs2bNNH/+fKWnp9vaTCaTLBaLVq5cqbCwsEItEACAwlKlSpCioh6xBSSTyaSoqEdVuXIVF1cGACjOnF5yfPTo0XrqqafUvn17NW/eXCaTSYsWLdIvv/yi48ePa8WKFUVRJwAAhaJjx8f0zTdfKyXlgipU8FdU1KOuLgkAUMw53dNUp04drV27Vs2bN9fu3bvl5uamHTt2qHr16lq1apXq1atXFHUCAFAoPD091bt3fwUGVlSvXv3Y2BYAcEsmayGvsXrq1CkFBQUV5i0LXXa2RefPX3Z1GQAAAABcKCDAW25ut+5HcrqnqV69eoqPj8/z2N69e/Xwww87e0sAAAAAKLYcmtO0ePFi28IPVqtVsbGx2rZtW67zfvzxR3l4eBRuhQAAAADgQg6FpoyMDMXExEi6vtJQbGxsrnPMZrN8fX01ZMiQwq0QAAAAAFzI6TlNISEhWrNmjRo1alRUNRU55jQBAAAAcHROU4EXgsjIyJCHh0eJ2hSQ0AQAAADA0dDk9D5NkvTrr79q9uzZ2rFjh9LS0hQbG6u1a9fqrrvuUq9evfJzSwAAAAAolpxePS8xMVHdunXTwYMH9cgjjyino8rNzU1TpkzRRx99VOhFAgAAAICrOD08r2/fvrJYLFq8eLEkqUGDBlq3bp1CQ0P18ssv68CBA8U+ODE8DwAAAECR7dO0b98+9e3bV+7u7rnmMUVFRem3335z9pYAAAAAUGw5HZo8PT119erVPI+lpKSwTxMAAACAvxSnQ1PLli01e/ZsnTp1ytZmMpl0+fJlLV68WPfee2+hFggAAAAAruT0nKakpCR1795dqampCgkJ0f79+xUeHq5jx47JarVq5cqVuuOOO4qq3kLBnCYAAAAARbpP04ULF7R06VLt2rVLKSkp8vX1VXh4uPr166fKlSvnq+DbidAEAAAA4LZtbltQ586d0z//+U9t375dGRkZCg8P19ixY1WzZk1J15c4nzx5sg4cOKCAgAD17dtXvXv3LtAzCU0AAAAACnVz2z179jj18PDwcIfPHTZsmCwWixYsWCBvb2+988476tu3rz7//HNdvXpV/fr1U2RkpCZNmqR9+/Zp0qRJ8vb2VteuXZ2qCQAAAADyw6HQ1KtXL7vlxfPqnDKZTLJarTKZTEpMTHTo4RcvXlRwcLAGDx6sOnXqSJKGDh2qxx57TEeOHNHOnTtVpkwZvfbaa3J3d1fNmjV1/PhxLViwgNAEAAAA4LZwKDSVKVNG165dU/369dWxY0c1bNiwUB5evnx5TZ8+3fb1+fPntXTpUgUFBalWrVqaM2eOIiIi5O7+vzJbtGih+fPn6+zZs6pYsWKh1AEAAAAAN+NQaNq5c6e++OILbdy4UTNnzlRwcLCioqLUqVMn29yjgnr55Ze1Zs0aeXh4aN68eSpXrpxOnTpl64HKkbPQRFJSUoFCk7u706utAwAAACiFHApNPj4+io6OVnR0tFJSUrR582Zt2rRJ8+fPV61atdSpUydFRUWpWrVq+S6kT58+6t69u5YvX65hw4ZpxYoVunr1aq7Ncj09PSVJGRkZ+X6W2WySv793vq8HAAAAUHoUaPW85ORkbd68WZ9++qn279+vRo0aqWPHjurVq1e+C7JYLOrUqZMaN26sAwcOqFWrVnrxxRdtx48ePaqOHTvqo48+Uv369fP1jOxsi1JTr+S7RgAAAAAln59f2cJbPe9mKleurN69e+uRRx7RsmXLNH/+fO3fv9/h0HT+/Hnt3LlTDz30kG3ektlsVq1atZScnKygoCAlJyfbXZPzdZUqVQpSurKyLAW6HgAAAEDpkO/QlJKSoi+++EKbN2/W7t27VaZMGbVr105RUVEO3+Ps2bMaNWqUFi5cqPvvv1+SdO3aNSUkJCgyMlIVK1bUqlWrlJ2dLTc3N0nSrl27VKNGDQUGBua3dAAAAABwmFPD824MSmazWa1atVJUVJTatm2rsmXLOl3A3//+d/33v//VG2+8ofLly2v+/Pnavn271q9fL09PTz388MOKjIzUwIEDFR8fr1dffVWTJk1SdHS008/Kwea2AAAAABzd3Nah0BQbG2sLSiaTSS1bttTDDz+sBx54QD4+PgUq9NKlS5o+fbq2bNmiS5cuqVmzZho3bpxq164tSYqPj9fkyZOVkJCgSpUqqX///urZs2eBnkloAgAAAFCooSkkJERubm4KCwtTu3btVL58ecPzO3fu7HChrkBoAgAAAFDooclRJpNJiYmJDp/vCoQmAAAAAI6GJocWgti6dWuBCwIAAACAksih0BQcHFzUdQAAAABAsXTrvigAAAAAKMUITQAAAABggNAEAAAAAAacDk2XLl0qijoAAAAAoFhyOjRFRUVp06ZNRVELAAAAABQ7ToemzMxM+fv7F0UtAAAAAFDsOLTk+J/17t1bs2bNkpeXl0JCQlS2bNmiqAsAAAAAigWT1Wq1OnNB+/btdfLkSWVnZ+d9Q5NJCQkJhVJcUcnOtuj8+cuuLgMAAACACwUEeMvN7daD75zuaXr00UfzVRAAAAAAlERO9zT9FdDTBAAAAKDIeppyfP3119qxY4fOnDmjkSNHKjExUaGhoQoODs7vLQEAAACg2HE6NF25ckXDhg3Tjh075OPjo8uXL2vAgAFauXKlEhIStGzZMtWuXbsoagUAAACA287pJcdnzJihgwcPaunSpdq1a5dyRve9+eabqlKlit55551CLxIAAAAAXMXp0PTpp59q1KhRatGihUwmk629cuXKGjJkiL7//vtCLRAAAAAAXMnp0JSamnrTeUvly5dXenp6gYsCAAAAgOLC6dBUu3Zt/fvf/87z2Jdffsl8JgAAAAB/KU4vBDFkyBANHz5cKSkpatu2rUwmk/bs2aO4uDitWrVK06dPL4o6AQAAAMAl8rVP07///W9Nnz5dp06dsrUFBgbq+eef1+OPP16oBRYF9mkCAAAA4Og+TQXa3PbXX39VSkqK/Pz8dNddd8lsdnq0n0sQmgAAAAAUyea28fHx+uOPP1S9enWFhobqrrvuyneBAAAAAFASOBSaUlNTNXjwYO3bt09Wq1Umk0lNmzbV9OnTVbVq1aKuEQAAAABcxqHxdLNmzVJCQoJGjBihBQsWaOzYsfr11181ceLEoq4PAAAAAFzKoZ6m//znPxo1apT69OkjSWrVqpWqVKmiF154Qenp6SpXrlyRFgkAAAAAruJQT9OZM2cUGhpq19a8eXNlZ2crKSmpSAoDAAAAgOLAodCUlZUlDw8Pu7by5ctLkjIyMgq/KgAAAAAoJgq8RngBViwHAAAAgGKvwKHJZDIVRh0AAAAAUCw5tLltSEiI6tevLx8fH1ub1WrVnj17FBoaKm9v7//d0GTSBx98UDTVFhI2twUAAABQqJvbhoeHS8o9FC+vdobrAQAAAPgrcain6a+GniYAAAAAjvY0FXhOEwAAAAD8lRGaAAAAAMAAoQkAAAAADBCaAAAAAMAAoQkAAAAADBCaAAAAAMAAoQkAAAAADBCaAAAAAMAAoQkAAAAADLg8NKWkpGjixIlq1aqVwsLC9NRTT2nv3r224zt37lSXLl3UuHFjdejQQRs3bnRhtQAAAABKG5eHplGjRunHH3/UjBkztG7dOtWrV08DBgzQr7/+ql9++UWDBw/W/fffr7i4OD3++OMaM2aMdu7c6eqyAQAAAJQSJqvVanXVw48fP6727dtrxYoVuvvuuyVJVqtV7du3V6dOnXTu3DklJiYqNjbWds3o0aOVkpKiRYsW5fu52dkWnT9/ucD1AwAAACi5AgK85eZ2634kl/Y0+fv7a8GCBWrYsKGtzWQyyWQyKTU1VXv37tU999xjd02LFi30/fffy4VZDwAAAEAp4u7Kh/v5+al169Z2bZ999pmOHz+ul156SR999JGCgoLsjleuXFlXrlzRhQsXFBAQkO9nu7u7fGQiAAAAgBLApaHpRj/88IPGjx+v9u3bq02bNrp69ao8PDzszsn5OjMzM9/PMZtN8vf3LlCtAAAAAEqHYhOatmzZohdeeEFhYWGaNm2aJMnT0zNXOMr5umzZsvl+lsViVWpqev6LBQAAAFDi+fmVdWhOU7EITcuWLdPkyZPVoUMHvfnmm7bepKpVqyo5Odnu3OTkZJUrV06+vr4FemZWlqVA1wMAAAAoHVw+sWfFihV6/fXX1aNHD82YMcNuOF6zZs303Xff2Z2/a9cuhYWFyWx2eekAAAAASgGX9jQdO3ZMU6ZM0YMPPqjBgwfr7NmztmNeXl7q1auXoqOjNW3aNEVHR+vrr7/W5s2btXDhQhdWDQAAAKA0cek+Te+9955mzpyZ57Ho6Gj985//1LZt2/T222/rt99+U7Vq1TRixAhFRUUV6Lns0wQAAADA0X2aXBqaXIXQBAAAAKBEbG4LAAAAAMUdoQkAAAAADBCaAAAAAMAAoQkAAAAADBCaAAAAAMAAoQkAAAAADBCaAAAAAMAAoQkAAAAADBCaAAAAAMAAoQkAAAAADBCaAAAAAMAAoQkAAAAADBCaAAAAAMAAoQkAAAAADBCaAAAAAMAAoQkAAAAADBCaAAAAAMAAoQkAAAAADBCaAAAAAMAAoQkAAAAADBCaAAAAAMAAoQkAAAAADBCaAAAAAMAAoQkAAAAADBCaAAAAAMAAoQkAAAAADBCaAAAAAMAAoQkAAAAADBCaAAAAAMAAoQkAAAAADBCaAAAAAMAAoQkAAAAADBCaAAAAAMAAoQkAAAAADBCaAAAAAMAAoQkAAAAADBCaAAAAAMAAoQkAAAAADBCaAAAAAMAAoQkAAAAADBCaAAAAAMBAsQpN8+fPV69evezaEhMT1bNnTzVp0kSRkZH68MMPXVQdAAAAgNKo2ISm5cuXa9asWXZtFy5cUL9+/VS9enWtW7dOw4YN07Rp07Ru3TrXFAkAAACg1HF3dQGnT5/WK6+8ot27d+vOO++0O7ZmzRqVKVNGr732mtzd3VWzZk0dP35cCxYsUNeuXV1TMAAAAIBSxeU9TQcPHlSZMmX08ccfq3HjxnbH9u7dq4iICLm7/y/btWjRQr/99pvOnj17u0sFAAAAUAq5vKcpMjJSkZGReR47deqU6tSpY9dWuXJlSVJSUpIqVqyY7+e6u7s8LwIAAAAoAVwemoxcvXpVHh4edm2enp6SpIyMjHzf12w2yd/fu0C1AQAAACgdinVo8vLyUmZmpl1bTlgqV65cvu9rsViVmppeoNoAAAAAlGx+fmXl5nbrEWjFOjQFBQUpOTnZri3n6ypVqhTo3llZlgJdDwAAAKB0KNYTe8LDw/X9998rOzvb1rZr1y7VqFFDgYGBLqwMAAAAQGlRrENT165dlZaWpgkTJujo0aOKi4vT0qVLNXjwYFeXBgAAAKCUKNahKTAwUAsXLtSxY8cUHR2tmJgYjRkzRtHR0a4uDQAAAEApYbJarVZXF3G7ZWdbdP78ZVeXAQAAAMCFAgK8HVoIolj3NAEAAACAqxGaAAAAAMAAoQkAAAAADBCaAAAAAMAAoQkAAAAADBCaAAAAAMAAoQkAAAAADBCaAAAAAMAAoQkAAAAADBCaAAAAAMAAoQkAAAAADBCaAAAAAMAAoQkAAAAADBCaAAAAAMAAoQkAAAAADBCaAAAAAMAAoQkAAAAADBCaAAAAAMAAoQkAAAAADBCaAAAAAMAAoQkAAAAADBCaAAAAAMAAoQkAAAAADBCaAAAAAMAAoQkAAAAADBCaAAAAAMAAoQkAAAAADBCaAAAAAMAAoQkAAAAADBCaAAAAAMAAoQkAAAAADBCaAAAAAMAAoQkAAAAADBCaAAAAAMAAoQkAAAAADBCaAAAAAMAAoQkAAAAADBCaAAAAAMAAoQkAAAAADBCaAAAAAMAAoQkAAAAADBCaAAAAAMCAu6sLcITFYlFMTIxiY2N16dIlhYeHa+LEibrjjjtcXRoAoATq3/9p258XL17hwkoAACVBiehpevfdd7VixQq9/vrrWrVqlSwWiwYOHKjMzExXlwYAKGH+HJjy+hoAgBsV+9CUmZmpxYsX69lnn1WbNm0UEhKimTNn6tSpU/r8889dXR4AAACAv7hiPzzv0KFDunz5su655x5bm5+fn+rXr689e/aoU6dOLqyudLBarbp0KdXVZaAUsFgsunw5zdVl4C/s5ZfH5tnev//Tev31N29zNSgtvL19ZDYX+99T4y/A19dPJpPJ1WX8JRX70HTq1ClJUtWqVe3aK1eubDuWH+7u/M/LEVarVW+88aqOHDns6lIAoEjdLFABQElRu3Zd/eMfrxKcikCxD01XrlyRJHl4eNi1e3p66uLFi/m6p9lskr+/d4FrKw2sVqvc3d1cXQYAAABuwd3dLH9/b0JTESj2ocnLy0vS9blNOX+WpIyMDJUtWzZf97RYrEpNTS+U+kqDceMmMjwPt4XFYlFaGsPzUDReeunFW54zZcrbt6ESlDY+PgzPw+3h6+unlBQ+4zrDz6+s3Nxu/fez2IemnGF5ycnJql69uq09OTlZdevWzfd9s7IsBa6tNClXztfVJaCU8PEp7+oS8Be1ePEKw5XyWHocQEmXnW2VZHV1GX9Jxf7XHiEhIfLx8dHu3bttbampqUpISFB4eLgLKwMAlDQ3C0YEJgCAkWLf0+Th4aGePXtq2rRpCggIUHBwsN5++20FBQWpffv2ri4PAAAAwF+cyWq1Fvs+vOzsbM2YMUNxcXG6evWqwsPDNXHiRFWrVi2f97Po/PnLhVwlAKCk+PMwPXqZAKD0CgjwdmhOU4kITYWN0AQAAADA0dBU7Oc0AQAAAIArEZoAAAAAwAChCQAAAAAMEJoAAAAAwAChCQAAAAAMEJoAAAAAwAChCQAAAAAMEJoAAAAAwAChCQAAAAAMEJoAAAAAwAChCQAAAAAMEJoAAAAAwAChCQAAAAAMmKxWq9XVRdxuVqtVFkup+7YBAAAA/InZbJLJZLrleaUyNAEAAACAoxieBwAAAAAGCE0AAAAAYIDQBAAAAAAGCE0AAAAAYIDQBAAAAAAGCE0AAAAAYIDQBAAAAAAGCE0AAAAAYIDQBAAAAAAG/h+U4CJcJ5s5zwAAAABJRU5ErkJggg==",
      "text/plain": [
       "<Figure size 1000x600 with 1 Axes>"
      ]
     },
     "metadata": {},
     "output_type": "display_data"
    }
   ],
   "source": [
    "# Create a box plot for outlier detection\n",
    "plt.figure(figsize=(10, 6)) \n",
    "sns.boxplot(y=train_data['Per_meter_comsumption_with_inter']) \n",
    "plt.title('Box Plot of Per Meter Consumption with Inter')\n",
    "plt.ylabel('Per Meter Consumption')\n",
    "plt.show()"
   ]
  },
  {
   "cell_type": "code",
   "execution_count": 6,
   "metadata": {},
   "outputs": [
    {
     "name": "stdout",
     "output_type": "stream",
     "text": [
      "Q1: 0.00504349748810322, Q3: 0.014305854200097142, IQR: 0.009262356711993922\n",
      "0.028199389268088022\n"
     ]
    }
   ],
   "source": [
    "# Calculate quartiles, IQR, and bounds for outlier detection\n",
    "data = train_data['Per_meter_comsumption_with_inter']\n",
    "Q1 = np.percentile(data, 25)\n",
    "Q3 = np.percentile(data, 75)\n",
    "\n",
    "# Calculate IQR\n",
    "IQR = Q3 - Q1\n",
    "lower_bound = Q1 - 1.5 * IQR\n",
    "upper_bound = Q3 + 1.5 * IQR\n",
    "\n",
    "# Identify outliers\n",
    "print(f\"Q1: {Q1}, Q3: {Q3}, IQR: {IQR}\")\n",
    "\n",
    "print(upper_bound)"
   ]
  },
  {
   "cell_type": "code",
   "execution_count": 6,
   "metadata": {},
   "outputs": [
    {
     "name": "stdout",
     "output_type": "stream",
     "text": [
      "Filtered DataFrame:\n"
     ]
    },
    {
     "data": {
      "text/plain": [
       "Series([], Name: Per_meter_comsumption_with_inter, dtype: float64)"
      ]
     },
     "metadata": {},
     "output_type": "display_data"
    }
   ],
   "source": [
    "# Apply the threshold using clip method\n",
    "train_data = pd.DataFrame(train_data)\n",
    "# Define the threshold (upper bound)\n",
    "threshold = 0.0281\n",
    "\n",
    "train_data['Per_meter_comsumption_with_inter'] = train_data['Per_meter_comsumption_with_inter'].clip(upper=threshold)\n",
    "\n",
    "if 'Per_meter_comsumption_with_inter' in train_data.columns:\n",
    "    filtered_data = train_data[train_data['Per_meter_comsumption_with_inter'] > 0.0281]\n",
    "    print(\"Filtered DataFrame:\")\n",
    "    display(filtered_data['Per_meter_comsumption_with_inter'])\n",
    "else:\n",
    "    print(\"Column 'consumption' does not exist in the DataFrame.\")"
   ]
  },
  {
   "cell_type": "code",
   "execution_count": 8,
   "metadata": {},
   "outputs": [
    {
     "name": "stderr",
     "output_type": "stream",
     "text": [
      "  0%|          | 0/31200 [00:00<?, ?it/s]"
     ]
    },
    {
     "name": "stderr",
     "output_type": "stream",
     "text": [
      "100%|██████████| 31200/31200 [00:02<00:00, 10697.09it/s]\n"
     ]
    }
   ],
   "source": [
    "# Create sequences and labels\n",
    "\n",
    "sequence_length_x = 192\n",
    "sequence_length_y = 24 # y is label\n",
    "\n",
    "sequences, labels , train_scaling_info  = create_sequences(train_data, sequence_length_x, sequence_length_y, train_data_scaling_info)\n",
    "\n",
    "train_X, train_y, train_scale_info, test_X, test_y, test_scale_info = train_test_split(sequences, labels , train_scaling_info, train_size = 0.75)\n",
    "\n",
    "\n",
    "def predict_inverse(model ,data):#, scaling_info):\n",
    "    with torch.no_grad():\n",
    "       data = torch.Tensor(data)\n",
    "       prediction = model(data)\n",
    "    return pd.DataFrame(prediction.numpy())"
   ]
  },
  {
   "cell_type": "code",
   "execution_count": 9,
   "metadata": {},
   "outputs": [
    {
     "name": "stdout",
     "output_type": "stream",
     "text": [
      "mps\n"
     ]
    }
   ],
   "source": [
    "# Set hyperparameters, create data loaders, and initialize the model and optimizer\n",
    "input_size = 29  # Feature dimension\n",
    "sequence_length = 192\n",
    "\n",
    "hidden_size = 256\n",
    "num_layers = 4\n",
    "\n",
    "output_size = 24\n",
    "\n",
    "\n",
    "num_epochs = 500\n",
    "batch_size = 32\n",
    "\n",
    "learning_rate = 0.001\n",
    "\n",
    "device = get_device()\n",
    "print(device)\n",
    "\n",
    "\n",
    "class HeatData(Dataset):\n",
    "\n",
    "    def __init__(self, sequences, labels):\n",
    "      self.sequences = sequences\n",
    "      self.labels = labels\n",
    "\n",
    "    def __len__(self):\n",
    "      return self.sequences.shape[0]\n",
    "\n",
    "    def __getitem__(self, idx):\n",
    "      return torch.Tensor(self.sequences[idx]), torch.Tensor(self.labels[idx])\n",
    "\n",
    "\n",
    "heatData_train = HeatData(train_X, train_y)\n",
    "heatData_val = HeatData(test_X, test_y)\n",
    "\n",
    "train_dataloader = DataLoader(heatData_train, batch_size=batch_size, shuffle = True)\n",
    "test_dataloader = DataLoader(heatData_val, batch_size=batch_size, shuffle = False)\n",
    "\n",
    "model = LSTMModel(input_size, hidden_size, output_size, num_layers)\n",
    "\n",
    "criterion = nn.MSELoss()\n",
    "model = model.to('mps')\n",
    "optimizer = optim.Adam(model.parameters(), lr=learning_rate)"
   ]
  },
 
   "source": [
    "# Train the model \n",
    "list_train_loss = []\n",
    "list_val_loss = []\n",
    "\n",
    "prev_val_loss = 1000\n",
    "epochs = 50\n",
    "for e in tqdm(range(epochs)):\n",
    "    model.train()\n",
    "    for data, labels in train_dataloader:\n",
    "        # Transfer Data to GPU if available\n",
    "        \n",
    "\n",
    "        data, labels = data.to('mps'), labels.to('mps')\n",
    "        # Clear the gradients\n",
    "        optimizer.zero_grad()\n",
    "        # Forward Pass\n",
    "        target = model(data)\n",
    "        # Find the Loss\n",
    "        loss = criterion(target,labels)\n",
    "        # Calculate gradients\n",
    "        loss.backward()\n",
    "        # Update Weights\n",
    "        optimizer.step()\n",
    "    list_train_loss.append(loss.item())\n",
    "    valid_loss = 0.0\n",
    "\n",
    "    model.eval()     # Optional when not using Model Specific layer\n",
    "    for data, labels in test_dataloader:\n",
    "        # Transfer Data to GPU if available\n",
    "        \n",
    "        data, labels = data.to('mps'), labels.to('mps')\n",
    "        # Forward Pass\n",
    "        target = model(data)\n",
    "        # Find the Loss\n",
    "        val_loss = criterion(target, labels)\n",
    "        # Calculate Loss\n",
    "        valid_loss += val_loss.item()\n",
    "    valid_loss =  valid_loss/len(test_dataloader)\n",
    "    list_val_loss.append(valid_loss)\n",
    "\n",
    "    if prev_val_loss > valid_loss:\n",
    "        # updating loss\n",
    "        prev_val_loss = valid_loss\n",
    "        torch.save(model.state_dict(), 'model_watertest{}.pth'.format(e))\n",
    "\n",
    "    print(f'Epoch {e+1} \\t\\t Training Loss: { loss.item()} \\t\\t Validation Loss: { valid_loss}')"
   ]
  },
  {
   "cell_type": "code",
   "execution_count": 10,
   "metadata": {},
   "outputs": [
    {
     "data": {
      "text/plain": [
       "<All keys matched successfully>"
      ]
     },
     "execution_count": 10,
     "metadata": {},
     "output_type": "execute_result"
    }
   ],
   "source": [
    "# Load the trained LSTM model weights\n",
    "model = LSTMModel(input_size, hidden_size, output_size, num_layers)\n",
    "model.load_state_dict(torch.load('model_watertest{}.pth'.format(15)))"
   ]
  },
  {
   "cell_type": "code",
   "execution_count": 12,
   "metadata": {},
   "outputs": [],
   "source": [
    "# Generate predictions and calculate MAE and MAPE.\n",
    "predictions = predict_inverse(model, test_X)\n",
    "prediction_for_all_meter = pd.DataFrame(test_scale_info[:,:,1]) * predictions\n",
    "\n",
    "mean_absolute_error(test_scale_info[:,:,0],prediction_for_all_meter.to_numpy())\n",
    "mean_absolute_percentage_error(test_scale_info[:,:,0],prediction_for_all_meter.to_numpy())"
   ]
  },
  {
   "cell_type": "code",
   "execution_count": 15,
   "metadata": {},
   "outputs": [],
   "source": [
    "# Predict and fill missing values in the test data using the model.\n",
    "def test_pred(model, test_data):\n",
    "    torch.no_grad()\n",
    "    test_data = test_data.reset_index()\n",
    "    \n",
    "    idx = test_data[test_data.Per_meter_comsumption_with_inter.isna()].timestamp.dt.date.drop_duplicates(keep='first').index.tolist()\n",
    "    print(idx)\n",
    "    for i in idx:\n",
    "        pre = model(torch.Tensor((test_data.loc[i-192\n",
    "              :i-1]).drop('timestamp', axis=1).values).reshape(1,192,29))\n",
    "        test_data.loc[i :i+23,'Per_meter_comsumption_with_inter'] = pre.detach().numpy().reshape(-1,1)\n",
    "    \n",
    "    return test_data\n"
   ]
  },
  {
   "cell_type": "code",
   "execution_count": 17,
   "metadata": {},
   "outputs": [
    {
     "name": "stdout",
     "output_type": "stream",
     "text": [
      "[192, 384, 576, 768, 960, 1152, 1344, 1536, 1728, 1920, 2112, 2304, 2496, 2688, 2880, 3072, 3264, 3456, 3648, 3840, 4032, 4224, 4416, 4608]\n"
     ]
    }
   ],
   "source": [
    "preTest = test_pred(model, test_data)\n",
    "preTest= preTest.set_index('timestamp')\n",
    "# Calculating original consumption value from per meter consumption and number of meters\n",
    "preTest.Per_meter_comsumption_with_inter  = preTest.Per_meter_comsumption_with_inter * test_data_scaling_info.meters\n",
    "# Storing results in CSV\n",
    "preTest[['Per_meter_comsumption_with_inter']].to_csv('WaterDMA_1.csv',index=True)"
   ]
  }
 ],
 "metadata": {
  "kernelspec": {
   "display_name": "Python 3",
   "language": "python",
   "name": "python3"
  },
  "language_info": {
   "codemirror_mode": {
    "name": "ipython",
    "version": 3
   },
   "file_extension": ".py",
   "mimetype": "text/x-python",
   "name": "python",
   "nbconvert_exporter": "python",
   "pygments_lexer": "ipython3",
   "version": "3.11.3"
  }
 },
 "nbformat": 4,
 "nbformat_minor": 2
}
